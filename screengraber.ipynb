{
 "cells": [
  {
   "cell_type": "code",
   "execution_count": 1,
   "metadata": {
    "collapsed": true
   },
   "outputs": [],
   "source": [
    "import cv2\n",
    "import os\n",
    "import random\n",
    "import requests\n",
    "import m3u8\n",
    "import tempfile\n",
    "\n",
    "class TwitchGrabber(object):\n",
    "    def __init__(self, channel):\n",
    "        self.channel = channel\n",
    "        self.f = tempfile.NamedTemporaryFile(delete=False)\n",
    "\n",
    "    def __enter__(self):\n",
    "        return self\n",
    "\n",
    "    def __exit__(self, *exc):\n",
    "        if self.f:\n",
    "          # os.unlink(self.f.name)\n",
    "          self.f.close()\n",
    "\n",
    "    def _get_auth_data(self):\n",
    "        url = 'http://api.twitch.tv/api/channels/{channel}/access_token'.format(channel=self.channel)\n",
    "        data = requests.get(url).json()\n",
    "        return data\n",
    "\n",
    "    def _get_livestream_m3u8_content(self):\n",
    "        url = 'http://usher.twitch.tv/api/channel/hls/{channel}.m3u8'.format(channel=self.channel)\n",
    "        data = self._get_auth_data()\n",
    "        token, sig = data['token'], data['sig']\n",
    "\n",
    "        params = dict(\n",
    "            token=token,\n",
    "            sig=sig,\n",
    "            allow_audio_only=True,\n",
    "            allow_source=True,\n",
    "            allow_spectre=False,\n",
    "            type='any',\n",
    "            p=random.randint(0, 99999)\n",
    "        )\n",
    "        content = requests.get(url, params=params).text\n",
    "        return content\n",
    "\n",
    "    def get_highest_quality_stream(self):\n",
    "        return m3u8.loads(self._get_livestream_m3u8_content()).playlists[0].uri\n",
    "\n",
    "    def get_latest_segment_file_url(self):\n",
    "        stream = m3u8.load(self.get_highest_quality_stream())\n",
    "        obj = stream.segments[0]\n",
    "        return obj.base_uri + obj.uri\n",
    "\n",
    "    def get_latest_segment_file(self):\n",
    "        # Write the data into our temp file\n",
    "        response = requests.get(\n",
    "            self.get_latest_segment_file_url(),\n",
    "            stream=True\n",
    "        )\n",
    "        for block in response.iter_content(1024):\n",
    "            self.f.write(block)\n",
    "        return self.f\n"
   ]
  },
  {
   "cell_type": "code",
   "execution_count": 2,
   "metadata": {
    "collapsed": false
   },
   "outputs": [],
   "source": [
    "stream = TwitchGrabber('moonmoon_ow')"
   ]
  },
  {
   "cell_type": "code",
   "execution_count": 3,
   "metadata": {
    "collapsed": false
   },
   "outputs": [
    {
     "data": {
      "text/plain": [
       "'c:\\\\users\\\\alex\\\\appdata\\\\local\\\\temp\\\\tmp9h5xs7'"
      ]
     },
     "execution_count": 3,
     "metadata": {},
     "output_type": "execute_result"
    }
   ],
   "source": [
    "stream.f.name"
   ]
  },
  {
   "cell_type": "code",
   "execution_count": 4,
   "metadata": {
    "collapsed": false
   },
   "outputs": [
    {
     "ename": "AttributeError",
     "evalue": "'NoneType' object has no attribute 'shape'",
     "output_type": "error",
     "traceback": [
      "\u001b[1;31m---------------------------------------------------------------------------\u001b[0m",
      "\u001b[1;31mAttributeError\u001b[0m                            Traceback (most recent call last)",
      "\u001b[1;32m<ipython-input-4-7a1da5fffcaf>\u001b[0m in \u001b[0;36m<module>\u001b[1;34m()\u001b[0m\n\u001b[0;32m      4\u001b[0m \u001b[1;33m\u001b[0m\u001b[0m\n\u001b[0;32m      5\u001b[0m \u001b[0msuccess\u001b[0m\u001b[1;33m,\u001b[0m \u001b[0mimage\u001b[0m \u001b[1;33m=\u001b[0m \u001b[0mvidcap\u001b[0m\u001b[1;33m.\u001b[0m\u001b[0mread\u001b[0m\u001b[1;33m(\u001b[0m\u001b[1;33m)\u001b[0m\u001b[1;33m\u001b[0m\u001b[0m\n\u001b[1;32m----> 6\u001b[1;33m \u001b[0mh\u001b[0m\u001b[1;33m,\u001b[0m \u001b[0mw\u001b[0m\u001b[1;33m,\u001b[0m \u001b[0m_\u001b[0m \u001b[1;33m=\u001b[0m \u001b[0mimage\u001b[0m\u001b[1;33m.\u001b[0m\u001b[0mshape\u001b[0m\u001b[1;33m\u001b[0m\u001b[0m\n\u001b[0m\u001b[0;32m      7\u001b[0m \u001b[0mcrop_h\u001b[0m \u001b[1;33m=\u001b[0m \u001b[0mh\u001b[0m \u001b[1;33m/\u001b[0m \u001b[1;36m4\u001b[0m\u001b[1;33m\u001b[0m\u001b[0m\n\u001b[0;32m      8\u001b[0m \u001b[0mcrop_w\u001b[0m \u001b[1;33m=\u001b[0m \u001b[0mw\u001b[0m \u001b[1;33m/\u001b[0m \u001b[1;36m2\u001b[0m\u001b[1;33m\u001b[0m\u001b[0m\n",
      "\u001b[1;31mAttributeError\u001b[0m: 'NoneType' object has no attribute 'shape'"
     ]
    }
   ],
   "source": [
    "stream.get_latest_segment_file()\n",
    "\n",
    "vidcap = cv2.VideoCapture(stream.f.name)\n",
    "\n",
    "success, image = vidcap.read()\n",
    "h, w, _ = image.shape\n",
    "crop_h = h / 4\n",
    "crop_w = w / 2\n",
    "\n",
    "# image[y1:y2, x1:x2]\n",
    "image = image[h - crop_h:h, crop_w:w]\n",
    "# cv2.imwrite('debug.png', image)\n",
    "\n",
    "hero = get_most_likely_heroes(image)[0]\n",
    "if hero['score'] >= 9:\n",
    "  print \"Most likely: \", hero['hero']\n",
    "else:\n",
    "  print \"Couldn't make out which character \\033[1m{}\\033[0m was playing with enough confidence.\".format(\n",
    "      stream.channel\n",
    "  )\n"
   ]
  },
  {
   "cell_type": "code",
   "execution_count": 5,
   "metadata": {
    "collapsed": false
   },
   "outputs": [
    {
     "data": {
      "text/plain": [
       "False"
      ]
     },
     "execution_count": 5,
     "metadata": {},
     "output_type": "execute_result"
    }
   ],
   "source": [
    "success"
   ]
  },
  {
   "cell_type": "code",
   "execution_count": 6,
   "metadata": {
    "collapsed": false
   },
   "outputs": [],
   "source": [
    "##get_latest_segment_file step by step"
   ]
  },
  {
   "cell_type": "code",
   "execution_count": 7,
   "metadata": {
    "collapsed": false
   },
   "outputs": [],
   "source": [
    "f = open('assa.txt', 'w')\n",
    "url = 'http://usher.twitch.tv/api/channel/hls/{channel}.m3u8'.format(channel=stream.channel)\n",
    "data = stream._get_auth_data()\n",
    "token, sig = data['token'], data['sig']\n",
    "params = dict(\n",
    "    token=token,\n",
    "    sig=sig,\n",
    "    allow_audio_only=True,\n",
    "    allow_source=True,\n",
    "    allow_spectre=False,\n",
    "    type='any',\n",
    "    p=random.randint(0, 99999)\n",
    ")\n",
    "content = requests.get(url, params=params).text\n",
    "s = m3u8.load(m3u8.loads(content).playlists[0].uri)\n",
    "obj = s.segments[0]\n",
    "\n",
    "url_ls_video = obj.base_uri + obj.uri\n",
    "response = requests.get(\n",
    "    url_ls_video,\n",
    "    stream=True\n",
    ")\n",
    "for block in response.iter_content(1024):\n",
    "    f.write(block)\n",
    "    "
   ]
  },
  {
   "cell_type": "code",
   "execution_count": 8,
   "metadata": {
    "collapsed": false
   },
   "outputs": [
    {
     "data": {
      "text/plain": [
       "{u'mobile_restricted': False,\n",
       " u'sig': u'30f2473bcdc8739d61b9ba71f59345de96d77f7c',\n",
       " u'token': u'{\"adblock\":false,\"player_type\":null,\"platform\":null,\"user_id\":null,\"channel\":\"moonmoon_ow\",\"expires\":1472150840,\"chansub\":{\"view_until\":1924905600,\"restricted_bitrates\":[]},\"private\":{\"allowed_to_view\":true},\"privileged\":false,\"source_restricted\":false,\"https_required\":false,\"show_ads\":true,\"device_id\":\"43b3449f0b13b259\"}'}"
      ]
     },
     "execution_count": 8,
     "metadata": {},
     "output_type": "execute_result"
    }
   ],
   "source": [
    "data"
   ]
  },
  {
   "cell_type": "code",
   "execution_count": 9,
   "metadata": {
    "collapsed": false
   },
   "outputs": [
    {
     "data": {
      "text/plain": [
       "u'{\"adblock\":false,\"player_type\":null,\"platform\":null,\"user_id\":null,\"channel\":\"moonmoon_ow\",\"expires\":1472150840,\"chansub\":{\"view_until\":1924905600,\"restricted_bitrates\":[]},\"private\":{\"allowed_to_view\":true},\"privileged\":false,\"source_restricted\":false,\"https_required\":false,\"show_ads\":true,\"device_id\":\"43b3449f0b13b259\"}'"
      ]
     },
     "execution_count": 9,
     "metadata": {},
     "output_type": "execute_result"
    }
   ],
   "source": [
    "token"
   ]
  },
  {
   "cell_type": "code",
   "execution_count": 10,
   "metadata": {
    "collapsed": false
   },
   "outputs": [
    {
     "data": {
      "text/plain": [
       "u'30f2473bcdc8739d61b9ba71f59345de96d77f7c'"
      ]
     },
     "execution_count": 10,
     "metadata": {},
     "output_type": "execute_result"
    }
   ],
   "source": [
    "sig"
   ]
  },
  {
   "cell_type": "code",
   "execution_count": 11,
   "metadata": {
    "collapsed": false
   },
   "outputs": [
    {
     "data": {
      "text/plain": [
       "{'allow_audio_only': True,\n",
       " 'allow_source': True,\n",
       " 'allow_spectre': False,\n",
       " 'p': 26312,\n",
       " 'sig': u'30f2473bcdc8739d61b9ba71f59345de96d77f7c',\n",
       " 'token': u'{\"adblock\":false,\"player_type\":null,\"platform\":null,\"user_id\":null,\"channel\":\"moonmoon_ow\",\"expires\":1472150840,\"chansub\":{\"view_until\":1924905600,\"restricted_bitrates\":[]},\"private\":{\"allowed_to_view\":true},\"privileged\":false,\"source_restricted\":false,\"https_required\":false,\"show_ads\":true,\"device_id\":\"43b3449f0b13b259\"}',\n",
       " 'type': 'any'}"
      ]
     },
     "execution_count": 11,
     "metadata": {},
     "output_type": "execute_result"
    }
   ],
   "source": [
    "params"
   ]
  },
  {
   "cell_type": "code",
   "execution_count": 12,
   "metadata": {
    "collapsed": false,
    "scrolled": true
   },
   "outputs": [
    {
     "data": {
      "text/plain": [
       "u'#EXTM3U\\n#EXT-X-TWITCH-INFO:NODE=\"video16.lhr02\",MANIFEST-NODE-TYPE=\"legacy\",MANIFEST-NODE=\"video16.lhr02\",SERVER-TIME=\"1472149641.51\",USER-IP=\"88.21.131.122\",SERVING-ID=\"fae6a8fee0b44c968695c8312e9dc1cf\",CLUSTER=\"lhr02\",ABS=\"false\",BROADCAST-ID=\"22997872464\",STREAM-TIME=\"11255.5137279\",MANIFEST-CLUSTER=\"lhr02\"\\n#EXT-X-MEDIA:TYPE=VIDEO,GROUP-ID=\"chunked\",NAME=\"Source\",AUTOSELECT=YES,DEFAULT=YES\\n#EXT-X-STREAM-INF:PROGRAM-ID=1,BANDWIDTH=4429000,RESOLUTION=1280x720,CODECS=\"avc1.640020,mp4a.40.2\",VIDEO=\"chunked\"\\nhttp://video16.lhr02.hls.ttvnw.net/hls-a083b7/moonmoon_ow_22997872464_506128998/chunked/index-live.m3u8?token=id=5891381353884299120,bid=22997872464,exp=1472236041,node=video16.lhr02,nname=video16.lhr02,fmt=chunked&sig=ac6898a3c57febdedea0f8db082d90feafb0e286\\n#EXT-X-MEDIA:TYPE=VIDEO,GROUP-ID=\"high\",NAME=\"High\",AUTOSELECT=YES,DEFAULT=YES\\n#EXT-X-STREAM-INF:PROGRAM-ID=1,BANDWIDTH=1760000,RESOLUTION=1280x720,CODECS=\"avc1.66.31,mp4a.40.2\",VIDEO=\"high\"\\nhttp://video16.lhr02.hls.ttvnw.net/hls-a083b7/moonmoon_ow_22997872464_506128998/high/index-live.m3u8?token=id=5891381353884299120,bid=22997872464,exp=1472236041,node=video16.lhr02,nname=video16.lhr02,fmt=high&sig=f660e4288174bcf8752f15e6e405e0dfe1b09de2\\n#EXT-X-MEDIA:TYPE=VIDEO,GROUP-ID=\"medium\",NAME=\"Medium\",AUTOSELECT=YES,DEFAULT=YES\\n#EXT-X-STREAM-INF:PROGRAM-ID=1,BANDWIDTH=992000,RESOLUTION=852x480,CODECS=\"avc1.66.31,mp4a.40.2\",VIDEO=\"medium\"\\nhttp://video16.lhr02.hls.ttvnw.net/hls-a083b7/moonmoon_ow_22997872464_506128998/medium/index-live.m3u8?token=id=5891381353884299120,bid=22997872464,exp=1472236041,node=video16.lhr02,nname=video16.lhr02,fmt=medium&sig=c0da544c3962fcf8dd2f71b96b248b071d2e82b4\\n#EXT-X-MEDIA:TYPE=VIDEO,GROUP-ID=\"low\",NAME=\"Low\",AUTOSELECT=YES,DEFAULT=YES\\n#EXT-X-STREAM-INF:PROGRAM-ID=1,BANDWIDTH=692000,RESOLUTION=640x360,CODECS=\"avc1.66.31,mp4a.40.2\",VIDEO=\"low\"\\nhttp://video16.lhr02.hls.ttvnw.net/hls-a083b7/moonmoon_ow_22997872464_506128998/low/index-live.m3u8?token=id=5891381353884299120,bid=22997872464,exp=1472236041,node=video16.lhr02,nname=video16.lhr02,fmt=low&sig=55a1bfa561a821538bd068be3f46711deb8f6d28\\n#EXT-X-MEDIA:TYPE=VIDEO,GROUP-ID=\"mobile\",NAME=\"Mobile\",AUTOSELECT=YES,DEFAULT=YES\\n#EXT-X-STREAM-INF:PROGRAM-ID=1,BANDWIDTH=292000,RESOLUTION=400x226,CODECS=\"avc1.66.31,mp4a.40.2\",VIDEO=\"mobile\"\\nhttp://video16.lhr02.hls.ttvnw.net/hls-a083b7/moonmoon_ow_22997872464_506128998/mobile/index-live.m3u8?token=id=5891381353884299120,bid=22997872464,exp=1472236041,node=video16.lhr02,nname=video16.lhr02,fmt=mobile&sig=223793e405758bb05fc36a57b567497e9f01d168\\n#EXT-X-MEDIA:TYPE=VIDEO,GROUP-ID=\"audio_only\",NAME=\"Audio Only\",AUTOSELECT=NO,DEFAULT=NO\\n#EXT-X-STREAM-INF:PROGRAM-ID=1,BANDWIDTH=128000,CODECS=\"mp4a.40.2\",VIDEO=\"audio_only\"\\nhttp://video16.lhr02.hls.ttvnw.net/hls-a083b7/moonmoon_ow_22997872464_506128998/audio_only/index-live.m3u8?token=id=5891381353884299120,bid=22997872464,exp=1472236041,node=video16.lhr02,nname=video16.lhr02,fmt=audio_only&sig=7f2e05094d8418d084158d779a47e5625a7041bb\\n'"
      ]
     },
     "execution_count": 12,
     "metadata": {},
     "output_type": "execute_result"
    }
   ],
   "source": [
    "content"
   ]
  },
  {
   "cell_type": "code",
   "execution_count": 13,
   "metadata": {
    "collapsed": false
   },
   "outputs": [
    {
     "data": {
      "text/plain": [
       "<m3u8.model.M3U8 at 0x62e27b8>"
      ]
     },
     "execution_count": 13,
     "metadata": {},
     "output_type": "execute_result"
    }
   ],
   "source": [
    "s"
   ]
  },
  {
   "cell_type": "code",
   "execution_count": 14,
   "metadata": {
    "collapsed": false
   },
   "outputs": [
    {
     "data": {
      "text/plain": [
       "<m3u8.model.Segment at 0x62e2e80>"
      ]
     },
     "execution_count": 14,
     "metadata": {},
     "output_type": "execute_result"
    }
   ],
   "source": [
    "obj"
   ]
  },
  {
   "cell_type": "code",
   "execution_count": 15,
   "metadata": {
    "collapsed": false
   },
   "outputs": [
    {
     "data": {
      "text/plain": [
       "u'http://video16.lhr02.hls.ttvnw.net/hls-a083b7/moonmoon_ow_22997872464_506128998/chunked/index-0000006075-TA0G.ts'"
      ]
     },
     "execution_count": 15,
     "metadata": {},
     "output_type": "execute_result"
    }
   ],
   "source": [
    "url_ls_video"
   ]
  },
  {
   "cell_type": "code",
   "execution_count": 16,
   "metadata": {
    "collapsed": false
   },
   "outputs": [
    {
     "data": {
      "text/plain": [
       "<Response [200]>"
      ]
     },
     "execution_count": 16,
     "metadata": {},
     "output_type": "execute_result"
    }
   ],
   "source": [
    "response"
   ]
  },
  {
   "cell_type": "code",
   "execution_count": 17,
   "metadata": {
    "collapsed": false
   },
   "outputs": [
    {
     "data": {
      "text/plain": [
       "False"
      ]
     },
     "execution_count": 17,
     "metadata": {},
     "output_type": "execute_result"
    }
   ],
   "source": [
    "stream.get_latest_segment_file()\n",
    "vidcap = cv2.VideoCapture(stream.f.name)\n",
    "success, image = vidcap.read()\n",
    "success"
   ]
  },
  {
   "cell_type": "code",
   "execution_count": 20,
   "metadata": {
    "collapsed": false
   },
   "outputs": [],
   "source": [
    "vidcap = cv2.VideoCapture(f.name)\n",
    "\n",
    "success, image = vidcap.read()"
   ]
  },
  {
   "cell_type": "code",
   "execution_count": 21,
   "metadata": {
    "collapsed": false
   },
   "outputs": [
    {
     "data": {
      "text/plain": [
       "False"
      ]
     },
     "execution_count": 21,
     "metadata": {},
     "output_type": "execute_result"
    }
   ],
   "source": [
    "success"
   ]
  },
  {
   "cell_type": "code",
   "execution_count": 22,
   "metadata": {
    "collapsed": true
   },
   "outputs": [],
   "source": [
    "f.close()"
   ]
  },
  {
   "cell_type": "code",
   "execution_count": null,
   "metadata": {
    "collapsed": true
   },
   "outputs": [],
   "source": []
  }
 ],
 "metadata": {
  "kernelspec": {
   "display_name": "Python 2",
   "language": "python",
   "name": "python2"
  },
  "language_info": {
   "codemirror_mode": {
    "name": "ipython",
    "version": 2
   },
   "file_extension": ".py",
   "mimetype": "text/x-python",
   "name": "python",
   "nbconvert_exporter": "python",
   "pygments_lexer": "ipython2",
   "version": "2.7.11"
  }
 },
 "nbformat": 4,
 "nbformat_minor": 0
}
